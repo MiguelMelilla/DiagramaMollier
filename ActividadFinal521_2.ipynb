{
 "cells": [
  {
   "cell_type": "markdown",
   "id": "c7e20b4a",
   "metadata": {
    "hide_input": true,
    "slideshow": {
     "slide_type": "slide"
    }
   },
   "source": [
    "# Actividad Final 5.21"
   ]
  },
  {
   "cell_type": "markdown",
   "id": "8c5e0b53",
   "metadata": {
    "slideshow": {
     "slide_type": "slide"
    }
   },
   "source": [
    "Dibuja el ciclo frigorífico del R134a en su diagrama de Mollier a partir de los siguientes datos:\n",
    "- Temperatura de condensación: 35 °C.\n",
    "- Temperatura de evaporación: -5 °C.\n",
    "- Temperatura a la entrada de la válvula de expansión: 25 °C.\n",
    "- Temperatura en la aspiración del compresor: 5 °C.\n"
   ]
  },
  {
   "cell_type": "code",
   "execution_count": 2,
   "id": "65905b23",
   "metadata": {
    "hide_input": true,
    "slideshow": {
     "slide_type": "notes"
    }
   },
   "outputs": [],
   "source": [
    "import pyromat as pm\n",
    "pm.config[\"unit_pressure\"] = \"kPa\"\n",
    "pm.config[\"def_p\"] = 100\n",
    "import warnings\n",
    "warnings.filterwarnings('ignore')"
   ]
  },
  {
   "cell_type": "markdown",
   "id": "8a077f9d",
   "metadata": {
    "slideshow": {
     "slide_type": "slide"
    }
   },
   "source": [
    "El punto 1 tendrá el valor de la presión de evaporación y la temperatura será la temperatura de evaporación saturada de líquido más 5º de recalentamiento. Una vez obtenido el punto sobre el diagrama anotamos los valores de entropía y entalpía."
   ]
  },
  {
   "cell_type": "code",
   "execution_count": 11,
   "id": "71436be7",
   "metadata": {
    "hide_input": true,
    "slideshow": {
     "slide_type": "fragment"
    }
   },
   "outputs": [
    {
     "name": "stdout",
     "output_type": "stream",
     "text": [
      "Entalpía del punto 1: 404.4 kJ/kg\n",
      "Entropía del punto 1: 1.7619 kJ/kg\n"
     ]
    }
   ],
   "source": [
    "mp_R134a = pm.get(\"mp.C2H2F4\")\n",
    "T1 = -5+10 + 273.15 # K <--given\n",
    "p_ev= mp_R134a.ps(T=-5+273.15)\n",
    "h1 = mp_R134a.h(T=T1, p=p_ev)\n",
    "s1 = mp_R134a.s(T=T1, p=p_ev)\n",
    "print(f\"Entalpía del punto 1: {round(float(h1),1)} kJ/kg\")\n",
    "print(f\"Entropía del punto 1: {round(float(s1),4)} kJ/kg\")"
   ]
  },
  {
   "cell_type": "markdown",
   "id": "51fefac6",
   "metadata": {
    "slideshow": {
     "slide_type": "slide"
    }
   },
   "source": [
    "El punto 2 tendrá el valor de la presión de condensación y la entropía del puto 1. Este valor implica que la compresión  sea isoentrópica. "
   ]
  },
  {
   "cell_type": "code",
   "execution_count": 5,
   "id": "ef67e2bd",
   "metadata": {
    "hide_input": true,
    "slideshow": {
     "slide_type": "fragment"
    }
   },
   "outputs": [
    {
     "name": "stdout",
     "output_type": "stream",
     "text": [
      "Presión punto 2: 886.9 KPa\n",
      "Entalpía del punto 2: 432.7 kJ/kg\n",
      "Temperatura del punto 2: 49.5 ºC\n"
     ]
    }
   ],
   "source": [
    "T_con = 35 +273.15 # K <--given\n",
    "p_g = mp_R134a.ps(T=T_con)\n",
    "h2 = mp_R134a.h(s=s1, p=p_g)\n",
    "T2 = mp_R134a.T(s=s1, p=p_g)\n",
    "print(f\"Presión punto 2: {round(float(p_g),1)} KPa\")\n",
    "print(f\"Entalpía del punto 2: {round(float(h2),1)} kJ/kg\")\n",
    "print(f\"Temperatura del punto 2: {round(float(T2-273.15),1)} ºC\")\n"
   ]
  },
  {
   "cell_type": "markdown",
   "id": "d022a834",
   "metadata": {
    "slideshow": {
     "slide_type": "slide"
    }
   },
   "source": [
    "El punto 3 tendrá el valor de la presión de condensación y la temperatura será la temperatura de condensación menos el valor del subenfriamiento de líquido. Una vez dibujado, obtenemos la entalpía."
   ]
  },
  {
   "cell_type": "code",
   "execution_count": 7,
   "id": "7323ef5b",
   "metadata": {
    "hide_input": true,
    "slideshow": {
     "slide_type": "fragment"
    }
   },
   "outputs": [
    {
     "name": "stdout",
     "output_type": "stream",
     "text": [
      "Presión punto 3: 886.9 KPa\n",
      "Entalpía del punto 3: 234.6 kJ/kg\n"
     ]
    }
   ],
   "source": [
    "p_g = mp_R134a.ps(T=T_con)\n",
    "print(f\"Presión punto 3: {round(float(p_g),1)} KPa\")\n",
    "h3 = mp_R134a.h(T=T_con-10,p=p_g)\n",
    "print(f\"Entalpía del punto 3: {round(float(h3[0]),1)} kJ/kg\")"
   ]
  },
  {
   "cell_type": "markdown",
   "id": "0c84bcc3",
   "metadata": {
    "slideshow": {
     "slide_type": "slide"
    }
   },
   "source": [
    "El punto 4 tendrá el valor de la entalpía del punto 3 y la presión y temperatura de evaporación."
   ]
  },
  {
   "cell_type": "code",
   "execution_count": 8,
   "id": "eb202ea3",
   "metadata": {
    "hide_input": true,
    "slideshow": {
     "slide_type": "fragment"
    }
   },
   "outputs": [
    {
     "name": "stdout",
     "output_type": "stream",
     "text": [
      "Presión punto 4: 243.3 KPa\n",
      "Entalpía del punto 4: 234.6 kJ/kg\n"
     ]
    }
   ],
   "source": [
    "h4 = h3\n",
    "T_ev = -5 + 273.15\n",
    "P4 = mp_R134a.ps(T=T_ev)\n",
    "print(f\"Presión punto 4: {round(float(P4),1)} KPa\")\n",
    "print(f\"Entalpía del punto 4: {round(float(h3[0]),1)} kJ/kg\")"
   ]
  },
  {
   "cell_type": "markdown",
   "id": "bdcdf7ad",
   "metadata": {
    "slideshow": {
     "slide_type": "slide"
    }
   },
   "source": [
    "Resumiento el ciclo frigorífico estará formado por los siguientes puntos:"
   ]
  },
  {
   "cell_type": "code",
   "execution_count": 15,
   "id": "dbebef94",
   "metadata": {
    "hide_input": true,
    "slideshow": {
     "slide_type": "fragment"
    }
   },
   "outputs": [
    {
     "name": "stdout",
     "output_type": "stream",
     "text": [
      "Presión punto 1: 243.3 KPa\n",
      "Entalpía del punto 1: 404.4 kJ/kg\n",
      "Presión punto 2: 886.9 KPa\n",
      "Entalpía del punto 2: 432.7 kJ/kg\n",
      "Presión punto 3: 886.9 KPa\n",
      "Entalpía del punto 3: 234.6 kJ/kg\n",
      "Presión punto 4: 243.3 KPa\n",
      "Entalpía del punto 4: 234.6 kJ/kg\n"
     ]
    }
   ],
   "source": [
    "print(f\"Presión punto 1: {round(float(p_ev),1)} KPa\")\n",
    "print(f\"Entalpía del punto 1: {round(float(h1),1)} kJ/kg\")\n",
    "print(f\"Presión punto 2: {round(float(p_g),1)} KPa\")\n",
    "print(f\"Entalpía del punto 2: {round(float(h2),1)} kJ/kg\")\n",
    "print(f\"Presión punto 3: {round(float(p_g),1)} KPa\")\n",
    "print(f\"Entalpía del punto 3: {round(float(h3),1)} kJ/kg\")\n",
    "print(f\"Presión punto 4: {round(float(p_ev),1)} KPa\")\n",
    "print(f\"Entalpía del punto 4: {round(float(h3),1)} kJ/kg\")"
   ]
  },
  {
   "cell_type": "markdown",
   "id": "cbe26d62",
   "metadata": {
    "slideshow": {
     "slide_type": "slide"
    }
   },
   "source": [
    "El calor abosobido por el refrigerante será:\n",
    "$$Q_{absorbido}=h_{1}-h_{4}$$"
   ]
  },
  {
   "cell_type": "code",
   "execution_count": 16,
   "id": "3d0bef49",
   "metadata": {
    "hide_input": true,
    "slideshow": {
     "slide_type": "fragment"
    }
   },
   "outputs": [
    {
     "name": "stdout",
     "output_type": "stream",
     "text": [
      "Calor absorbido por el refrigerante: 169.8 kJ/kg\n"
     ]
    }
   ],
   "source": [
    "q_L = h1 - h4\n",
    "print(f\"Calor absorbido por el refrigerante: {round(float(q_L[0]),1)} kJ/kg\")"
   ]
  },
  {
   "cell_type": "markdown",
   "id": "2e539487",
   "metadata": {
    "slideshow": {
     "slide_type": "slide"
    }
   },
   "source": [
    "El calor eliminaado en el condensador será:\n",
    "$$Q_{eliminado}=h_{2}-h_{3}$$"
   ]
  },
  {
   "cell_type": "code",
   "execution_count": 17,
   "id": "d6d83915",
   "metadata": {
    "hide_input": true,
    "slideshow": {
     "slide_type": "fragment"
    }
   },
   "outputs": [
    {
     "name": "stdout",
     "output_type": "stream",
     "text": [
      "Calor eliminado en el condensador: 198.1 kJ/kg\n"
     ]
    }
   ],
   "source": [
    "q_H = h2 -h3\n",
    "print(f\"Calor eliminado en el condensador: {round(float(q_H[0]),1)} kJ/kg\")"
   ]
  },
  {
   "cell_type": "markdown",
   "id": "a591c373",
   "metadata": {
    "hide_input": false,
    "slideshow": {
     "slide_type": "slide"
    }
   },
   "source": [
    "La potencia frigorífica será: \n",
    "$$\\dot{Q}=\\dot{m}*Q_{absorbido}$$"
   ]
  },
  {
   "cell_type": "code",
   "execution_count": 18,
   "id": "03596ec7",
   "metadata": {
    "hide_input": true,
    "slideshow": {
     "slide_type": "fragment"
    }
   },
   "outputs": [
    {
     "name": "stdout",
     "output_type": "stream",
     "text": [
      "Potencia frigorífica: 3.4 kW\n"
     ]
    }
   ],
   "source": [
    "m_dot = 0.02\n",
    "print(f\"Potencia frigorífica: {round(float(q_L[0]*m_dot),2)} kW\")\n"
   ]
  },
  {
   "cell_type": "markdown",
   "id": "7a7d116c",
   "metadata": {
    "hide_input": true,
    "slideshow": {
     "slide_type": "slide"
    }
   },
   "source": [
    "El equivalente térmico del trabajo total de compresión.\n",
    "$$W_{compresor}=h_{2}-h_{1}$$"
   ]
  },
  {
   "cell_type": "code",
   "execution_count": 19,
   "id": "3a1e3020",
   "metadata": {
    "hide_input": true,
    "slideshow": {
     "slide_type": "fragment"
    }
   },
   "outputs": [
    {
     "name": "stdout",
     "output_type": "stream",
     "text": [
      "Equivalente térmico del trabajo del compresor: 28.3 kJ/kg\n"
     ]
    }
   ],
   "source": [
    "w_c = h2-h1\n",
    "print(f\"Equivalente térmico del trabajo del compresor: {round(float(w_c),1)} kJ/kg\")"
   ]
  },
  {
   "cell_type": "markdown",
   "id": "6aa9bf1c",
   "metadata": {
    "slideshow": {
     "slide_type": "slide"
    }
   },
   "source": [
    "El coeficiente de eficiencia energética EER será:\n",
    "$$EER = \\frac{Q_{absorbido}}{W_{compresor}}$$"
   ]
  },
  {
   "cell_type": "code",
   "execution_count": 20,
   "id": "22a938af",
   "metadata": {
    "hide_input": true,
    "slideshow": {
     "slide_type": "fragment"
    }
   },
   "outputs": [
    {
     "name": "stdout",
     "output_type": "stream",
     "text": [
      "EER: 5.999\n"
     ]
    }
   ],
   "source": [
    "beta = q_L/w_c\n",
    "print(f\"EER: {round(float(beta[0]),3)}\")"
   ]
  },
  {
   "cell_type": "code",
   "execution_count": 13,
   "id": "92b091fc",
   "metadata": {
    "hide_input": false,
    "scrolled": true,
    "slideshow": {
     "slide_type": "slide"
    }
   },
   "outputs": [
    {
     "data": {
      "image/png": "[encoded data removed]",
      "text/plain": [
       "<Figure size 640x480 with 1 Axes>"
      ]
     },
     "metadata": {},
     "output_type": "display_data"
    }
   ],
   "source": [
    "import CoolProp\n",
    "from CoolProp.Plots import PropertyPlot\n",
    "from CoolProp.Plots import SimpleCompressionCycle\n",
    "from CoolProp.CoolProp import PropsSI\n",
    "pp = PropertyPlot('HEOS::R134a', 'PH', unit_system='EUR')\n",
    "pp.calc_isolines(CoolProp.iQ, num=11)\n",
    "Te = -5\n",
    "Tc = 35\n",
    "pp.calc_isolines(CoolProp.iT, [Te,Tc], num=2)\n",
    "cycle = SimpleCompressionCycle('HEOS::R134a', 'PH', unit_system='EUR')\n",
    "cycle.simple_solve_dt(Te+273.15, Tc+273.15, 10, 10, 1, SI=True)\n",
    "cycle.steps = 50\n",
    "sc = cycle.get_state_changes()\n",
    "import matplotlib.pyplot as plt\n",
    "plt.close(cycle.figure)\n",
    "pp.draw_process(sc)\n",
    "plt.title(\"Actividad Final 5.14\")\n",
    "plt.xlim(200,450)\n",
    "plt.ylim(1,20)\n",
    "plt.text(230,2,\"4\")\n",
    "plt.text(405,2,\"1\")\n",
    "plt.text(430,9.5,\"2\")\n",
    "plt.text(230,9.5,\"3\")\n",
    "pp.show()"
   ]
  },
  {
   "cell_type": "code",
   "execution_count": null,
   "id": "7b754122",
   "metadata": {},
   "outputs": [],
   "source": []
  }
 ],
 "metadata": {
  "celltoolbar": "Slideshow",
  "hide_input": true,
  "kernelspec": {
   "display_name": "Python 3 (ipykernel)",
   "language": "python",
   "name": "python3"
  },
  "language_info": {
   "codemirror_mode": {
    "name": "ipython",
    "version": 3
   },
   "file_extension": ".py",
   "mimetype": "text/x-python",
   "name": "python",
   "nbconvert_exporter": "python",
   "pygments_lexer": "ipython3",
   "version": "3.11.1"
  },
  "rise": {
   "enable_chalkboard": true,
   "footer": "<h3>MÁQUINAS Y EQUIPOS TÉRMICOS</h3>",
   "header": "<h1>TEMA Nº 5 CICLO FRIGORÍFICO</h1>",
   "theme": "black",
   "transition": "slide"
  }
 },
 "nbformat": 4,
 "nbformat_minor": 5
}
